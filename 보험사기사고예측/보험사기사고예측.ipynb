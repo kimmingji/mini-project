{
 "cells": [
  {
   "cell_type": "markdown",
   "id": "2fd06114",
   "metadata": {},
   "source": [
    "## 보험 사기 사고 예측"
   ]
  },
  {
   "cell_type": "markdown",
   "id": "bc8efaaf",
   "metadata": {},
   "source": [
    "### 라이브러리 호출"
   ]
  },
  {
   "cell_type": "code",
   "execution_count": 1,
   "id": "8b6eef37",
   "metadata": {},
   "outputs": [
    {
     "name": "stdout",
     "output_type": "stream",
     "text": [
      "\n",
      "System:\n",
      "    python: 3.9.7 | packaged by conda-forge | (default, Sep 29 2021, 19:20:46)  [GCC 9.4.0]\n",
      "executable: /opt/conda/bin/python\n",
      "   machine: Linux-5.15.107+-x86_64-with-glibc2.31\n",
      "\n",
      "Python dependencies:\n",
      "          pip: 21.3.1\n",
      "   setuptools: 59.4.0\n",
      "      sklearn: 1.0\n",
      "        numpy: 1.21.4\n",
      "        scipy: 1.7.1\n",
      "       Cython: 0.29.24\n",
      "       pandas: 1.3.3\n",
      "   matplotlib: 3.4.3\n",
      "       joblib: 1.1.0\n",
      "threadpoolctl: 3.0.0\n",
      "\n",
      "Built with OpenMP: True\n",
      "1.3.3\n",
      "1.0\n",
      "0.8.1\n"
     ]
    }
   ],
   "source": [
    "import os\n",
    "import pandas as pd\n",
    "import numpy as np \n",
    "import matplotlib.pyplot as plt\n",
    "import seaborn as sns\n",
    "\n",
    "from sklearn.metrics import classification_report\n",
    "from sklearn.semi_supervised import LabelSpreading\n",
    "from sklearn.metrics import plot_confusion_matrix\n",
    "from sklearn.linear_model import LogisticRegression\n",
    "from sklearn.metrics import r2_score, classification_report, confusion_matrix, accuracy_score, roc_auc_score, roc_curve, precision_recall_curve, average_precision_score, ConfusionMatrixDisplay\n",
    "from sklearn.preprocessing import MinMaxScaler\n",
    "from sklearn.cluster import KMeans\n",
    "import sklearn; sklearn.show_versions()\n",
    "from sklearn.svm import SVC\n",
    "\n",
    "import pandas\n",
    "import sklearn\n",
    "import imblearn\n",
    "\n",
    "import warnings\n",
    "warnings.filterwarnings( 'ignore' )\n",
    "\n",
    "print(pandas.__version__)\n",
    "print(sklearn.__version__)\n",
    "print(imblearn.__version__)"
   ]
  },
  {
   "cell_type": "markdown",
   "id": "3109d18d",
   "metadata": {},
   "source": [
    "### 데이터 로드 및 확인"
   ]
  },
  {
   "cell_type": "code",
   "execution_count": 2,
   "id": "3151dad8",
   "metadata": {},
   "outputs": [],
   "source": [
    "# 데이터셋을 준비합니다.\n",
    "df = pd.read_csv(os.getenv('HOME')+'/data.csv')"
   ]
  },
  {
   "cell_type": "code",
   "execution_count": 1,
   "id": "da7ed43e",
   "metadata": {},
   "outputs": [],
   "source": [
    "#활용할 피쳐와 레이블 \n",
    "features = df.columns.drop([ 'test/train/unlabeled', 'isfraud'])\n",
    "label = ['isfraud'] "
   ]
  },
  {
   "cell_type": "code",
   "execution_count": 6,
   "id": "4f0bbf15",
   "metadata": {},
   "outputs": [
    {
     "data": {
      "text/plain": [
       "(array([351.,   0.,   0.,   0.,   0., 191.,   0.,   0.,   0.,  58.]),\n",
       " array([-1. , -0.8, -0.6, -0.4, -0.2,  0. ,  0.2,  0.4,  0.6,  0.8,  1. ]),\n",
       " <BarContainer object of 10 artists>)"
      ]
     },
     "execution_count": 6,
     "metadata": {},
     "output_type": "execute_result"
    },
    {
     "data": {
      "image/png": "[encoded data removed]",
      "text/plain": [
       "<Figure size 432x288 with 1 Axes>"
      ]
     },
     "metadata": {
      "needs_background": "light"
     },
     "output_type": "display_data"
    }
   ],
   "source": [
    "# 레이블 분포 확인\n",
    "plt.hist(df['isfraud'])"
   ]
  },
  {
   "cell_type": "markdown",
   "id": "39e8e27d",
   "metadata": {},
   "source": [
    " -1은 레이블이 없는 데이터, 0은 일반사고, 1은 보험사기 사고를 의미  \n",
    " 상당수는 레이블이 없는 데이터임을 확인할 수 있다."
   ]
  },
  {
   "cell_type": "markdown",
   "id": "420fca1b",
   "metadata": {},
   "source": [
    "### 성능 비교를 위한 베이스라인 모델"
   ]
  },
  {
   "cell_type": "code",
   "execution_count": 7,
   "id": "7dc16366",
   "metadata": {},
   "outputs": [],
   "source": [
    "# 트레인 셋 / 테스트 셋 \n",
    "X_train_labeled = df[df['test/train/unlabeled']==2][features]\n",
    "Y_train_labeled = df[df['test/train/unlabeled']==2][label]\n",
    "\n",
    "X_test_labeled = df[df['test/train/unlabeled']==1][features]\n",
    "Y_test_labeled = df[df['test/train/unlabeled']==1][label]"
   ]
  },
  {
   "cell_type": "code",
   "execution_count": 8,
   "id": "17b3de5f",
   "metadata": {},
   "outputs": [],
   "source": [
    "clf1 = LogisticRegression(random_state=0).fit(X_train_labeled, Y_train_labeled.values.ravel())\n",
    "\n",
    "# 결과 확인\n",
    "y = Y_test_labeled\n",
    "y_pred = clf1.predict(X_test_labeled)"
   ]
  },
  {
   "cell_type": "code",
   "execution_count": 9,
   "id": "ea590c07",
   "metadata": {},
   "outputs": [
    {
     "name": "stdout",
     "output_type": "stream",
     "text": [
      "              precision    recall  f1-score   support\n",
      "\n",
      "           0       0.92      0.71      0.80       124\n",
      "           1       0.32      0.68      0.44        25\n",
      "\n",
      "    accuracy                           0.70       149\n",
      "   macro avg       0.62      0.69      0.62       149\n",
      "weighted avg       0.82      0.70      0.74       149\n",
      "\n"
     ]
    },
    {
     "data": {
      "image/png": "[encoded data removed]",
      "text/plain": [
       "<Figure size 432x288 with 2 Axes>"
      ]
     },
     "metadata": {
      "needs_background": "light"
     },
     "output_type": "display_data"
    }
   ],
   "source": [
    "# 평가 \n",
    "print(classification_report(y, y_pred))\n",
    "ConfusionMatrixDisplay.from_estimator(clf1, X_test_labeled, Y_test_labeled)  \n",
    "plt.show()  \n",
    "\n",
    "# 보험사기건에 대한 f1-score 0.44를 기록했습니다."
   ]
  },
  {
   "cell_type": "code",
   "execution_count": 10,
   "id": "2c33bc51",
   "metadata": {},
   "outputs": [],
   "source": [
    "baseline_report = classification_report(y, y_pred)"
   ]
  },
  {
   "cell_type": "markdown",
   "id": "7c359100",
   "metadata": {},
   "source": [
    "### 실험"
   ]
  },
  {
   "cell_type": "markdown",
   "id": "23ee726d",
   "metadata": {},
   "source": [
    "1. sklearn.semi_supervised.LabelSpreading 을 활용해서 unlabeled 데이터에 label을 할당한다.\n",
    "    - knn 모델을 활용하며, k는 각각 1, 3, 5로 실험을 진행  \n",
    "    \n",
    "    \n",
    "2. unlabeled 데이터는 전체 데이터를 활용하지 않고, 일부만을 활용해 본다.\n",
    "    - 10%, 30%, 50%를 샘플링해서 실험"
   ]
  },
  {
   "cell_type": "markdown",
   "id": "fe06b736",
   "metadata": {},
   "source": [
    "#### ■ k = 1, sample = 10%"
   ]
  },
  {
   "cell_type": "code",
   "execution_count": 11,
   "id": "a9dbeaca",
   "metadata": {},
   "outputs": [],
   "source": [
    "# 레이블이 있는 train set과 레이블이 없는 train set 나누기\n",
    "X_train_labeled = df[df['test/train/unlabeled'] == 2][features]\n",
    "Y_train_labeled = df[df['test/train/unlabeled'] == 2][label]\n",
    "\n",
    "X_train_unlabeled = df[df['test/train/unlabeled'] == 3][features]\n",
    "Y_train_unlabeled = df[df['test/train/unlabeled'] == 3][label]"
   ]
  },
  {
   "cell_type": "code",
   "execution_count": 12,
   "id": "0509037c",
   "metadata": {},
   "outputs": [
    {
     "data": {
      "text/plain": [
       "((100, 50), (100, 1), (351, 50), (351, 1))"
      ]
     },
     "execution_count": 12,
     "metadata": {},
     "output_type": "execute_result"
    }
   ],
   "source": [
    "X_train_labeled.shape, Y_train_labeled.shape, X_train_unlabeled.shape, Y_train_unlabeled.shape"
   ]
  },
  {
   "cell_type": "code",
   "execution_count": 13,
   "id": "ec751e3f",
   "metadata": {},
   "outputs": [
    {
     "data": {
      "text/plain": [
       "isfraud\n",
       "0          67\n",
       "1          33\n",
       "dtype: int64"
      ]
     },
     "execution_count": 13,
     "metadata": {},
     "output_type": "execute_result"
    }
   ],
   "source": [
    "Y_train_labeled.value_counts()"
   ]
  },
  {
   "cell_type": "code",
   "execution_count": 14,
   "id": "afc419ef",
   "metadata": {},
   "outputs": [
    {
     "name": "stdout",
     "output_type": "stream",
     "text": [
      "(35, 50) (35, 1)\n"
     ]
    }
   ],
   "source": [
    "# unlabeled 데이터 중 10%만 샘플링\n",
    "sample_frac = 0.1\n",
    "num_samples = int(len(X_train_unlabeled) * sample_frac)\n",
    "\n",
    "# 데이터를 샘플링할 무작위 인덱스 생성\n",
    "random_indices = np.random.choice(len(X_train_unlabeled), num_samples)\n",
    "\n",
    "# 샘플링된 데이터 가져오기\n",
    "X_train_unlabeled_sampled = X_train_unlabeled.iloc[random_indices]\n",
    "Y_train_unlabeled_sampled = Y_train_unlabeled.iloc[random_indices]\n",
    "print(X_train_unlabeled_sampled.shape, Y_train_unlabeled_sampled.shape)\n"
   ]
  },
  {
   "cell_type": "code",
   "execution_count": 15,
   "id": "9e4999df",
   "metadata": {},
   "outputs": [
    {
     "name": "stdout",
     "output_type": "stream",
     "text": [
      "(135, 50) (135, 1)\n"
     ]
    }
   ],
   "source": [
    "# 샘플링된 레이블이 없는 데이터와 레이블이 있는 데이터를 합치기\n",
    "X_train_combined = pd.concat([X_train_labeled, X_train_unlabeled_sampled], axis=0)\n",
    "Y_train_combined = pd.concat([Y_train_labeled, Y_train_unlabeled_sampled], axis=0)\n",
    "\n",
    "print(X_train_combined.shape, Y_train_combined.shape)"
   ]
  },
  {
   "cell_type": "code",
   "execution_count": 16,
   "id": "ddb7bbab",
   "metadata": {
    "scrolled": true
   },
   "outputs": [
    {
     "data": {
      "text/plain": [
       "isfraud\n",
       " 0         67\n",
       "-1         35\n",
       " 1         33\n",
       "dtype: int64"
      ]
     },
     "execution_count": 16,
     "metadata": {},
     "output_type": "execute_result"
    }
   ],
   "source": [
    "Y_train_combined.value_counts()"
   ]
  },
  {
   "cell_type": "code",
   "execution_count": 17,
   "id": "c15a4f7f",
   "metadata": {},
   "outputs": [
    {
     "data": {
      "text/plain": [
       "((135, 50), (135, 1))"
      ]
     },
     "execution_count": 17,
     "metadata": {},
     "output_type": "execute_result"
    }
   ],
   "source": [
    "# 남은 unlabeled 데이터 중 len(X_train_combined)만큼 추출하여 테스트 데이터로 만들기\n",
    "remaining_indices = [idx for idx in range(len(X_train_unlabeled)) if idx not in random_indices]\n",
    "X_test_unlabeled = X_train_unlabeled.iloc[remaining_indices][:X_train_combined.shape[0]]\n",
    "Y_test_unlabeled = Y_train_unlabeled.iloc[remaining_indices][:X_train_combined.shape[0]]\n",
    "X_test_unlabeled.shape, Y_test_unlabeled.shape"
   ]
  },
  {
   "cell_type": "code",
   "execution_count": 18,
   "id": "656efbdb",
   "metadata": {},
   "outputs": [
    {
     "name": "stdout",
     "output_type": "stream",
     "text": [
      "              precision    recall  f1-score   support\n",
      "\n",
      "          -1       0.00      0.00      0.00        35\n",
      "           0       0.54      0.82      0.65        67\n",
      "           1       0.39      0.39      0.39        33\n",
      "\n",
      "    accuracy                           0.50       135\n",
      "   macro avg       0.31      0.40      0.35       135\n",
      "weighted avg       0.36      0.50      0.42       135\n",
      "\n"
     ]
    }
   ],
   "source": [
    "# 모델 선언 (k = 1)\n",
    "label_prop_model = LabelSpreading(kernel='knn', n_neighbors=1)\n",
    "\n",
    "# 학습 및 예측\n",
    "label_prop_model.fit(X_train_combined, Y_train_combined)\n",
    "y_pred = label_prop_model.predict(X_test_unlabeled)\n",
    "\n",
    "# 성능 평가\n",
    "report = classification_report(Y_train_combined, y_pred)\n",
    "print(report)"
   ]
  },
  {
   "cell_type": "markdown",
   "id": "c7723295",
   "metadata": {},
   "source": [
    "#### ■ k = 1, sample = 30%"
   ]
  },
  {
   "cell_type": "code",
   "execution_count": 19,
   "id": "76b22616",
   "metadata": {},
   "outputs": [],
   "source": [
    "def semi_supervised_learning(k, sample_frac):\n",
    "    # 레이블이 있는 train set과 레이블이 없는 train set 나누기\n",
    "    X_train_labeled = df[df['test/train/unlabeled'] == 2][features]\n",
    "    Y_train_labeled = df[df['test/train/unlabeled'] == 2][label]\n",
    "\n",
    "    X_train_unlabeled = df[df['test/train/unlabeled'] == 3][features]\n",
    "    Y_train_unlabeled = df[df['test/train/unlabeled'] == 3][label]\n",
    "    print('레이블 있는 데이터와 없는 데이터 shape')\n",
    "    print(X_train_labeled.shape, Y_train_labeled.shape, X_train_unlabeled.shape, Y_train_unlabeled.shape)\n",
    "    print('-'*70)\n",
    "    \n",
    "    # unlabeled 데이터 중 일부만 샘플링\n",
    "    sample_size = int(len(X_train_unlabeled) * sample_frac)\n",
    "    # 데이터를 샘플링할 무작위 인덱스 생성\n",
    "    random_indices = np.random.choice(len(X_train_unlabeled), sample_size, replace=False)\n",
    "    # 샘플링된 데이터\n",
    "    X_train_unlabeled_sampled = X_train_unlabeled.iloc[random_indices]\n",
    "    Y_train_unlabeled_sampled = Y_train_unlabeled.iloc[random_indices]\n",
    "    print('샘플링된 데이터 shape')\n",
    "    print(X_train_unlabeled_sampled.shape, Y_train_unlabeled_sampled.shape)\n",
    "    print('-'*70)\n",
    "\n",
    "    # 샘플링된 레이블이 없는 데이터와 레이블이 있는 데이터를 합치기\n",
    "    X_train_combined = pd.concat([X_train_labeled, X_train_unlabeled_sampled], axis=0)\n",
    "    Y_train_combined = pd.concat([Y_train_labeled, Y_train_unlabeled_sampled], axis=0)\n",
    "    print('레이블 있는 데이터와 없는 데이터 합친 데이터 shape')\n",
    "    print(X_train_combined.shape, Y_train_combined.shape)\n",
    "    print('-'*70)\n",
    "    \n",
    "    # 남은 unlabeled 데이터 중 샘플링된 데이터와 같은 수만큼 추출하여 테스트 데이터로 만들기\n",
    "    remaining_indices = [idx for idx in range(len(X_train_unlabeled)) if idx not in random_indices]\n",
    "    X_test_unlabeled = X_train_unlabeled.iloc[remaining_indices][:len(X_train_combined)]\n",
    "    Y_test_unlabeled = Y_train_unlabeled.iloc[remaining_indices][:len(X_train_combined)]\n",
    "    print('테스트 데이터 shape')\n",
    "    print(X_test_unlabeled.shape, Y_test_unlabeled.shape)\n",
    "    print('-'*70)\n",
    "\n",
    "    # 모델 선언 (k 지정)\n",
    "    label_prop_model = LabelSpreading(kernel='knn', n_neighbors=k)\n",
    "\n",
    "    # 학습 및 예측\n",
    "    label_prop_model.fit(X_train_combined, Y_train_combined)\n",
    "    y_pred = label_prop_model.predict(X_test_unlabeled)\n",
    "\n",
    "    # 성능 평가\n",
    "    report = classification_report(Y_train_combined, y_pred)\n",
    "    return report"
   ]
  },
  {
   "cell_type": "markdown",
   "id": "78223792",
   "metadata": {},
   "source": [
    "기존에는 위의 코드처럼 구현을 했는데, test 데이터를 생성하는 부분에서 데이터 수가 맞지 않아서 샘플링 비율을 50%로 조정했을 때, 에러가 났다. 이유는 np.random.choice를 할때, replace = False로 설정해서 데이터 중복을 막게 되어 데이터 수가 부족했던 것이었다. 그래서 해당 옵션을 그냥 없앤 코드로 10% 샘플링 코드부터 다시 구현했다."
   ]
  },
  {
   "cell_type": "code",
   "execution_count": 23,
   "id": "da068c01",
   "metadata": {},
   "outputs": [],
   "source": [
    "def semi_supervised_learning(k, sample_frac):\n",
    "    # 레이블이 있는 train set과 레이블이 없는 train set 나누기\n",
    "    X_train_labeled = df[df['test/train/unlabeled'] == 2][features]\n",
    "    Y_train_labeled = df[df['test/train/unlabeled'] == 2][label]\n",
    "\n",
    "    X_train_unlabeled = df[df['test/train/unlabeled'] == 3][features]\n",
    "    Y_train_unlabeled = df[df['test/train/unlabeled'] == 3][label]\n",
    "    print('레이블 있는 데이터와 없는 데이터 shape')\n",
    "    print(X_train_labeled.shape, Y_train_labeled.shape, X_train_unlabeled.shape, Y_train_unlabeled.shape)\n",
    "    print('-'*70)\n",
    "    \n",
    "    # unlabeled 데이터 중 일부만 샘플링\n",
    "    sample_size = int(len(X_train_unlabeled) * sample_frac)\n",
    "    # 데이터를 샘플링할 무작위 인덱스 생성\n",
    "    random_indices = np.random.choice(len(X_train_unlabeled), sample_size)\n",
    "    # 샘플링된 데이터\n",
    "    X_train_unlabeled_sampled = X_train_unlabeled.iloc[random_indices]\n",
    "    Y_train_unlabeled_sampled = Y_train_unlabeled.iloc[random_indices]\n",
    "    print('샘플링된 데이터 shape')\n",
    "    print(X_train_unlabeled_sampled.shape, Y_train_unlabeled_sampled.shape)\n",
    "    print('-'*70)\n",
    "\n",
    "    # 샘플링된 레이블이 없는 데이터와 레이블이 있는 데이터를 합치기\n",
    "    X_train_combined = pd.concat([X_train_labeled, X_train_unlabeled_sampled], axis=0)\n",
    "    Y_train_combined = pd.concat([Y_train_labeled, Y_train_unlabeled_sampled], axis=0)\n",
    "    print('레이블 있는 데이터와 없는 데이터 합친 데이터 shape')\n",
    "    print(X_train_combined.shape, Y_train_combined.shape)\n",
    "    print('-'*70)\n",
    "    \n",
    "    # 남은 unlabeled 데이터 중 학습 데이터와 같은 크기로 테스트 데이터 생성\n",
    "    remaining_indices = [idx for idx in range(len(X_train_unlabeled)) if idx not in random_indices]\n",
    "    num_test_samples = len(X_train_combined)\n",
    "    random_test_indices = np.random.choice(remaining_indices, num_test_samples)\n",
    "    X_test_unlabeled = X_train_unlabeled.iloc[random_test_indices]\n",
    "    Y_test_unlabeled = Y_train_unlabeled.iloc[random_test_indices]\n",
    "    print('테스트 데이터 shape')\n",
    "    print(X_test_unlabeled.shape, Y_test_unlabeled.shape)\n",
    "    print('-'*70)\n",
    "\n",
    "    # 모델 선언 (k 지정)\n",
    "    label_prop_model = LabelSpreading(kernel='knn', n_neighbors=k)\n",
    "\n",
    "    # 학습 및 예측\n",
    "    label_prop_model.fit(X_train_combined, Y_train_combined)\n",
    "    y_pred = label_prop_model.predict(X_test_unlabeled)\n",
    "\n",
    "    # 성능 평가\n",
    "    report = classification_report(Y_train_combined, y_pred)\n",
    "    return report"
   ]
  },
  {
   "cell_type": "code",
   "execution_count": 24,
   "id": "71871394",
   "metadata": {},
   "outputs": [
    {
     "name": "stdout",
     "output_type": "stream",
     "text": [
      "레이블 있는 데이터와 없는 데이터 shape\n",
      "(100, 50) (100, 1) (351, 50) (351, 1)\n",
      "----------------------------------------------------------------------\n",
      "샘플링된 데이터 shape\n",
      "(105, 50) (105, 1)\n",
      "----------------------------------------------------------------------\n",
      "레이블 있는 데이터와 없는 데이터 합친 데이터 shape\n",
      "(205, 50) (205, 1)\n",
      "----------------------------------------------------------------------\n",
      "테스트 데이터 shape\n",
      "(205, 50) (205, 1)\n",
      "----------------------------------------------------------------------\n",
      "K=1, 30% 샘플링 결과:\n",
      "               precision    recall  f1-score   support\n",
      "\n",
      "          -1       0.00      0.00      0.00       105\n",
      "           0       0.33      0.82      0.47        67\n",
      "           1       0.20      0.24      0.22        33\n",
      "\n",
      "    accuracy                           0.31       205\n",
      "   macro avg       0.18      0.35      0.23       205\n",
      "weighted avg       0.14      0.31      0.19       205\n",
      "\n"
     ]
    }
   ],
   "source": [
    "report_1_30 = semi_supervised_learning(k=1, sample_frac=0.3)\n",
    "print(\"K=1, 30% 샘플링 결과:\\n\", report_1_30)"
   ]
  },
  {
   "cell_type": "markdown",
   "id": "1b6d7401",
   "metadata": {},
   "source": [
    "#### ■ k = 1, sample = 50%"
   ]
  },
  {
   "cell_type": "code",
   "execution_count": 22,
   "id": "fe692ab6",
   "metadata": {},
   "outputs": [
    {
     "name": "stdout",
     "output_type": "stream",
     "text": [
      "레이블 있는 데이터와 없는 데이터 shape\n",
      "(100, 50) (100, 1) (351, 50) (351, 1)\n",
      "----------------------------------------------------------------------\n",
      "샘플링된 데이터 shape\n",
      "(175, 50) (175, 1)\n",
      "----------------------------------------------------------------------\n",
      "레이블 있는 데이터와 없는 데이터 합친 데이터 shape\n",
      "(275, 50) (275, 1)\n",
      "----------------------------------------------------------------------\n",
      "테스트 데이터 shape\n",
      "(176, 50) (176, 1)\n",
      "----------------------------------------------------------------------\n"
     ]
    },
    {
     "ename": "ValueError",
     "evalue": "Found input variables with inconsistent numbers of samples: [275, 176]",
     "output_type": "error",
     "traceback": [
      "\u001b[0;31m---------------------------------------------------------------------------\u001b[0m",
      "\u001b[0;31mValueError\u001b[0m                                Traceback (most recent call last)",
      "\u001b[0;32m/tmp/ipykernel_424/134764369.py\u001b[0m in \u001b[0;36m<module>\u001b[0;34m\u001b[0m\n\u001b[0;32m----> 1\u001b[0;31m \u001b[0mreport_1_50\u001b[0m \u001b[0;34m=\u001b[0m \u001b[0msemi_supervised_learning\u001b[0m\u001b[0;34m(\u001b[0m\u001b[0mk\u001b[0m\u001b[0;34m=\u001b[0m\u001b[0;36m1\u001b[0m\u001b[0;34m,\u001b[0m \u001b[0msample_frac\u001b[0m\u001b[0;34m=\u001b[0m\u001b[0;36m0.5\u001b[0m\u001b[0;34m)\u001b[0m\u001b[0;34m\u001b[0m\u001b[0;34m\u001b[0m\u001b[0m\n\u001b[0m\u001b[1;32m      2\u001b[0m \u001b[0mprint\u001b[0m\u001b[0;34m(\u001b[0m\u001b[0;34m\"K=1, 50% 샘플링 결과:\\n\"\u001b[0m\u001b[0;34m,\u001b[0m \u001b[0mreport_1_50\u001b[0m\u001b[0;34m)\u001b[0m\u001b[0;34m\u001b[0m\u001b[0;34m\u001b[0m\u001b[0m\n",
      "\u001b[0;32m/tmp/ipykernel_424/3542380242.py\u001b[0m in \u001b[0;36msemi_supervised_learning\u001b[0;34m(k, sample_frac)\u001b[0m\n\u001b[1;32m     44\u001b[0m \u001b[0;34m\u001b[0m\u001b[0m\n\u001b[1;32m     45\u001b[0m     \u001b[0;31m# 성능 평가\u001b[0m\u001b[0;34m\u001b[0m\u001b[0;34m\u001b[0m\u001b[0m\n\u001b[0;32m---> 46\u001b[0;31m     \u001b[0mreport\u001b[0m \u001b[0;34m=\u001b[0m \u001b[0mclassification_report\u001b[0m\u001b[0;34m(\u001b[0m\u001b[0mY_train_combined\u001b[0m\u001b[0;34m,\u001b[0m \u001b[0my_pred\u001b[0m\u001b[0;34m)\u001b[0m\u001b[0;34m\u001b[0m\u001b[0;34m\u001b[0m\u001b[0m\n\u001b[0m\u001b[1;32m     47\u001b[0m     \u001b[0;32mreturn\u001b[0m \u001b[0mreport\u001b[0m\u001b[0;34m\u001b[0m\u001b[0;34m\u001b[0m\u001b[0m\n",
      "\u001b[0;32m/opt/conda/lib/python3.9/site-packages/sklearn/metrics/_classification.py\u001b[0m in \u001b[0;36mclassification_report\u001b[0;34m(y_true, y_pred, labels, target_names, sample_weight, digits, output_dict, zero_division)\u001b[0m\n\u001b[1;32m   2074\u001b[0m     \"\"\"\n\u001b[1;32m   2075\u001b[0m \u001b[0;34m\u001b[0m\u001b[0m\n\u001b[0;32m-> 2076\u001b[0;31m     \u001b[0my_type\u001b[0m\u001b[0;34m,\u001b[0m \u001b[0my_true\u001b[0m\u001b[0;34m,\u001b[0m \u001b[0my_pred\u001b[0m \u001b[0;34m=\u001b[0m \u001b[0m_check_targets\u001b[0m\u001b[0;34m(\u001b[0m\u001b[0my_true\u001b[0m\u001b[0;34m,\u001b[0m \u001b[0my_pred\u001b[0m\u001b[0;34m)\u001b[0m\u001b[0;34m\u001b[0m\u001b[0;34m\u001b[0m\u001b[0m\n\u001b[0m\u001b[1;32m   2077\u001b[0m \u001b[0;34m\u001b[0m\u001b[0m\n\u001b[1;32m   2078\u001b[0m     \u001b[0;32mif\u001b[0m \u001b[0mlabels\u001b[0m \u001b[0;32mis\u001b[0m \u001b[0;32mNone\u001b[0m\u001b[0;34m:\u001b[0m\u001b[0;34m\u001b[0m\u001b[0;34m\u001b[0m\u001b[0m\n",
      "\u001b[0;32m/opt/conda/lib/python3.9/site-packages/sklearn/metrics/_classification.py\u001b[0m in \u001b[0;36m_check_targets\u001b[0;34m(y_true, y_pred)\u001b[0m\n\u001b[1;32m     82\u001b[0m     \u001b[0my_pred\u001b[0m \u001b[0;34m:\u001b[0m \u001b[0marray\u001b[0m \u001b[0;32mor\u001b[0m \u001b[0mindicator\u001b[0m \u001b[0mmatrix\u001b[0m\u001b[0;34m\u001b[0m\u001b[0;34m\u001b[0m\u001b[0m\n\u001b[1;32m     83\u001b[0m     \"\"\"\n\u001b[0;32m---> 84\u001b[0;31m     \u001b[0mcheck_consistent_length\u001b[0m\u001b[0;34m(\u001b[0m\u001b[0my_true\u001b[0m\u001b[0;34m,\u001b[0m \u001b[0my_pred\u001b[0m\u001b[0;34m)\u001b[0m\u001b[0;34m\u001b[0m\u001b[0;34m\u001b[0m\u001b[0m\n\u001b[0m\u001b[1;32m     85\u001b[0m     \u001b[0mtype_true\u001b[0m \u001b[0;34m=\u001b[0m \u001b[0mtype_of_target\u001b[0m\u001b[0;34m(\u001b[0m\u001b[0my_true\u001b[0m\u001b[0;34m)\u001b[0m\u001b[0;34m\u001b[0m\u001b[0;34m\u001b[0m\u001b[0m\n\u001b[1;32m     86\u001b[0m     \u001b[0mtype_pred\u001b[0m \u001b[0;34m=\u001b[0m \u001b[0mtype_of_target\u001b[0m\u001b[0;34m(\u001b[0m\u001b[0my_pred\u001b[0m\u001b[0;34m)\u001b[0m\u001b[0;34m\u001b[0m\u001b[0;34m\u001b[0m\u001b[0m\n",
      "\u001b[0;32m/opt/conda/lib/python3.9/site-packages/sklearn/utils/validation.py\u001b[0m in \u001b[0;36mcheck_consistent_length\u001b[0;34m(*arrays)\u001b[0m\n\u001b[1;32m    329\u001b[0m     \u001b[0muniques\u001b[0m \u001b[0;34m=\u001b[0m \u001b[0mnp\u001b[0m\u001b[0;34m.\u001b[0m\u001b[0munique\u001b[0m\u001b[0;34m(\u001b[0m\u001b[0mlengths\u001b[0m\u001b[0;34m)\u001b[0m\u001b[0;34m\u001b[0m\u001b[0;34m\u001b[0m\u001b[0m\n\u001b[1;32m    330\u001b[0m     \u001b[0;32mif\u001b[0m \u001b[0mlen\u001b[0m\u001b[0;34m(\u001b[0m\u001b[0muniques\u001b[0m\u001b[0;34m)\u001b[0m \u001b[0;34m>\u001b[0m \u001b[0;36m1\u001b[0m\u001b[0;34m:\u001b[0m\u001b[0;34m\u001b[0m\u001b[0;34m\u001b[0m\u001b[0m\n\u001b[0;32m--> 331\u001b[0;31m         raise ValueError(\n\u001b[0m\u001b[1;32m    332\u001b[0m             \u001b[0;34m\"Found input variables with inconsistent numbers of samples: %r\"\u001b[0m\u001b[0;34m\u001b[0m\u001b[0;34m\u001b[0m\u001b[0m\n\u001b[1;32m    333\u001b[0m             \u001b[0;34m%\u001b[0m \u001b[0;34m[\u001b[0m\u001b[0mint\u001b[0m\u001b[0;34m(\u001b[0m\u001b[0ml\u001b[0m\u001b[0;34m)\u001b[0m \u001b[0;32mfor\u001b[0m \u001b[0ml\u001b[0m \u001b[0;32min\u001b[0m \u001b[0mlengths\u001b[0m\u001b[0;34m]\u001b[0m\u001b[0;34m\u001b[0m\u001b[0;34m\u001b[0m\u001b[0m\n",
      "\u001b[0;31mValueError\u001b[0m: Found input variables with inconsistent numbers of samples: [275, 176]"
     ]
    }
   ],
   "source": [
    "report_1_50 = semi_supervised_learning(k=1, sample_frac=0.5)\n",
    "print(\"K=1, 50% 샘플링 결과:\\n\", report_1_50)"
   ]
  },
  {
   "cell_type": "code",
   "execution_count": 25,
   "id": "0d067437",
   "metadata": {},
   "outputs": [
    {
     "name": "stdout",
     "output_type": "stream",
     "text": [
      "레이블 있는 데이터와 없는 데이터 shape\n",
      "(100, 50) (100, 1) (351, 50) (351, 1)\n",
      "----------------------------------------------------------------------\n",
      "샘플링된 데이터 shape\n",
      "(175, 50) (175, 1)\n",
      "----------------------------------------------------------------------\n",
      "레이블 있는 데이터와 없는 데이터 합친 데이터 shape\n",
      "(275, 50) (275, 1)\n",
      "----------------------------------------------------------------------\n",
      "테스트 데이터 shape\n",
      "(275, 50) (275, 1)\n",
      "----------------------------------------------------------------------\n",
      "K=1, 50% 샘플링 결과:\n",
      "               precision    recall  f1-score   support\n",
      "\n",
      "          -1       0.00      0.00      0.00       175\n",
      "           0       0.23      0.82      0.36        67\n",
      "           1       0.09      0.09      0.09        33\n",
      "\n",
      "    accuracy                           0.21       275\n",
      "   macro avg       0.10      0.30      0.15       275\n",
      "weighted avg       0.07      0.21      0.10       275\n",
      "\n"
     ]
    }
   ],
   "source": [
    "report_1_50 = semi_supervised_learning(k=1, sample_frac=0.5)\n",
    "print(\"K=1, 50% 샘플링 결과:\\n\", report_1_50)"
   ]
  },
  {
   "cell_type": "markdown",
   "id": "c788f96c",
   "metadata": {},
   "source": [
    "#### ■ k = 3, sample = 10%"
   ]
  },
  {
   "cell_type": "code",
   "execution_count": 26,
   "id": "60e80812",
   "metadata": {},
   "outputs": [
    {
     "name": "stdout",
     "output_type": "stream",
     "text": [
      "레이블 있는 데이터와 없는 데이터 shape\n",
      "(100, 50) (100, 1) (351, 50) (351, 1)\n",
      "----------------------------------------------------------------------\n",
      "샘플링된 데이터 shape\n",
      "(35, 50) (35, 1)\n",
      "----------------------------------------------------------------------\n",
      "레이블 있는 데이터와 없는 데이터 합친 데이터 shape\n",
      "(135, 50) (135, 1)\n",
      "----------------------------------------------------------------------\n",
      "테스트 데이터 shape\n",
      "(135, 50) (135, 1)\n",
      "----------------------------------------------------------------------\n",
      "K=3, 10% 샘플링 결과:\n",
      "               precision    recall  f1-score   support\n",
      "\n",
      "          -1       0.00      0.00      0.00        35\n",
      "           0       0.53      0.84      0.65        67\n",
      "           1       0.40      0.36      0.38        33\n",
      "\n",
      "    accuracy                           0.50       135\n",
      "   macro avg       0.31      0.40      0.34       135\n",
      "weighted avg       0.36      0.50      0.42       135\n",
      "\n"
     ]
    }
   ],
   "source": [
    "report_3_10 = semi_supervised_learning(k=3, sample_frac=0.1)\n",
    "print(\"K=3, 10% 샘플링 결과:\\n\", report_3_10)"
   ]
  },
  {
   "cell_type": "markdown",
   "id": "1b661d0e",
   "metadata": {},
   "source": [
    "#### ■ k = 3, sample = 30%"
   ]
  },
  {
   "cell_type": "code",
   "execution_count": 27,
   "id": "b92cdf81",
   "metadata": {},
   "outputs": [
    {
     "name": "stdout",
     "output_type": "stream",
     "text": [
      "레이블 있는 데이터와 없는 데이터 shape\n",
      "(100, 50) (100, 1) (351, 50) (351, 1)\n",
      "----------------------------------------------------------------------\n",
      "샘플링된 데이터 shape\n",
      "(105, 50) (105, 1)\n",
      "----------------------------------------------------------------------\n",
      "레이블 있는 데이터와 없는 데이터 합친 데이터 shape\n",
      "(205, 50) (205, 1)\n",
      "----------------------------------------------------------------------\n",
      "테스트 데이터 shape\n",
      "(205, 50) (205, 1)\n",
      "----------------------------------------------------------------------\n",
      "K=3, 30% 샘플링 결과:\n",
      "               precision    recall  f1-score   support\n",
      "\n",
      "          -1       0.00      0.00      0.00       105\n",
      "           0       0.34      0.72      0.46        67\n",
      "           1       0.13      0.24      0.17        33\n",
      "\n",
      "    accuracy                           0.27       205\n",
      "   macro avg       0.15      0.32      0.21       205\n",
      "weighted avg       0.13      0.27      0.18       205\n",
      "\n"
     ]
    }
   ],
   "source": [
    "report_3_30 = semi_supervised_learning(k=3, sample_frac=0.3)\n",
    "print(\"K=3, 30% 샘플링 결과:\\n\", report_3_30)"
   ]
  },
  {
   "cell_type": "markdown",
   "id": "bdec110a",
   "metadata": {},
   "source": [
    "#### ■ k = 3, sample = 50%"
   ]
  },
  {
   "cell_type": "code",
   "execution_count": 28,
   "id": "f6449336",
   "metadata": {},
   "outputs": [
    {
     "name": "stdout",
     "output_type": "stream",
     "text": [
      "레이블 있는 데이터와 없는 데이터 shape\n",
      "(100, 50) (100, 1) (351, 50) (351, 1)\n",
      "----------------------------------------------------------------------\n",
      "샘플링된 데이터 shape\n",
      "(175, 50) (175, 1)\n",
      "----------------------------------------------------------------------\n",
      "레이블 있는 데이터와 없는 데이터 합친 데이터 shape\n",
      "(275, 50) (275, 1)\n",
      "----------------------------------------------------------------------\n",
      "테스트 데이터 shape\n",
      "(275, 50) (275, 1)\n",
      "----------------------------------------------------------------------\n",
      "K=3, 50% 샘플링 결과:\n",
      "               precision    recall  f1-score   support\n",
      "\n",
      "          -1       0.00      0.00      0.00       175\n",
      "           0       0.24      0.76      0.37        67\n",
      "           1       0.08      0.15      0.10        33\n",
      "\n",
      "    accuracy                           0.20       275\n",
      "   macro avg       0.11      0.30      0.16       275\n",
      "weighted avg       0.07      0.20      0.10       275\n",
      "\n"
     ]
    }
   ],
   "source": [
    "report_3_50 = semi_supervised_learning(k=3, sample_frac=0.5)\n",
    "print(\"K=3, 50% 샘플링 결과:\\n\", report_3_50)"
   ]
  },
  {
   "cell_type": "markdown",
   "id": "7c66e2e5",
   "metadata": {},
   "source": [
    "#### ■ k = 5, sample = 10%"
   ]
  },
  {
   "cell_type": "code",
   "execution_count": 29,
   "id": "b7bc90d3",
   "metadata": {},
   "outputs": [
    {
     "name": "stdout",
     "output_type": "stream",
     "text": [
      "레이블 있는 데이터와 없는 데이터 shape\n",
      "(100, 50) (100, 1) (351, 50) (351, 1)\n",
      "----------------------------------------------------------------------\n",
      "샘플링된 데이터 shape\n",
      "(35, 50) (35, 1)\n",
      "----------------------------------------------------------------------\n",
      "레이블 있는 데이터와 없는 데이터 합친 데이터 shape\n",
      "(135, 50) (135, 1)\n",
      "----------------------------------------------------------------------\n",
      "테스트 데이터 shape\n",
      "(135, 50) (135, 1)\n",
      "----------------------------------------------------------------------\n",
      "K=5, 10% 샘플링 결과:\n",
      "               precision    recall  f1-score   support\n",
      "\n",
      "          -1       0.00      0.00      0.00        35\n",
      "           0       0.50      0.85      0.63        67\n",
      "           1       0.30      0.18      0.23        33\n",
      "\n",
      "    accuracy                           0.47       135\n",
      "   macro avg       0.27      0.34      0.28       135\n",
      "weighted avg       0.32      0.47      0.37       135\n",
      "\n"
     ]
    }
   ],
   "source": [
    "report_5_10 = semi_supervised_learning(k=5, sample_frac=0.1)\n",
    "print(\"K=5, 10% 샘플링 결과:\\n\", report_5_10)"
   ]
  },
  {
   "cell_type": "markdown",
   "id": "0ab13e15",
   "metadata": {},
   "source": [
    "#### ■ k = 5, sample = 30%"
   ]
  },
  {
   "cell_type": "code",
   "execution_count": 30,
   "id": "8bb7707a",
   "metadata": {
    "scrolled": false
   },
   "outputs": [
    {
     "name": "stdout",
     "output_type": "stream",
     "text": [
      "레이블 있는 데이터와 없는 데이터 shape\n",
      "(100, 50) (100, 1) (351, 50) (351, 1)\n",
      "----------------------------------------------------------------------\n",
      "샘플링된 데이터 shape\n",
      "(105, 50) (105, 1)\n",
      "----------------------------------------------------------------------\n",
      "레이블 있는 데이터와 없는 데이터 합친 데이터 shape\n",
      "(205, 50) (205, 1)\n",
      "----------------------------------------------------------------------\n",
      "테스트 데이터 shape\n",
      "(205, 50) (205, 1)\n",
      "----------------------------------------------------------------------\n",
      "K=5, 30% 샘플링 결과:\n",
      "               precision    recall  f1-score   support\n",
      "\n",
      "          -1       0.00      0.00      0.00       105\n",
      "           0       0.32      0.76      0.45        67\n",
      "           1       0.13      0.18      0.15        33\n",
      "\n",
      "    accuracy                           0.28       205\n",
      "   macro avg       0.15      0.31      0.20       205\n",
      "weighted avg       0.13      0.28      0.17       205\n",
      "\n"
     ]
    }
   ],
   "source": [
    "report_5_30 = semi_supervised_learning(k=5, sample_frac=0.3)\n",
    "print(\"K=5, 30% 샘플링 결과:\\n\", report_5_30)"
   ]
  },
  {
   "cell_type": "markdown",
   "id": "06dfafbf",
   "metadata": {},
   "source": [
    "#### ■ k = 5, sample = 50%"
   ]
  },
  {
   "cell_type": "code",
   "execution_count": 31,
   "id": "4a7f7d48",
   "metadata": {},
   "outputs": [
    {
     "name": "stdout",
     "output_type": "stream",
     "text": [
      "레이블 있는 데이터와 없는 데이터 shape\n",
      "(100, 50) (100, 1) (351, 50) (351, 1)\n",
      "----------------------------------------------------------------------\n",
      "샘플링된 데이터 shape\n",
      "(175, 50) (175, 1)\n",
      "----------------------------------------------------------------------\n",
      "레이블 있는 데이터와 없는 데이터 합친 데이터 shape\n",
      "(275, 50) (275, 1)\n",
      "----------------------------------------------------------------------\n",
      "테스트 데이터 shape\n",
      "(275, 50) (275, 1)\n",
      "----------------------------------------------------------------------\n",
      "K=5, 50% 샘플링 결과:\n",
      "               precision    recall  f1-score   support\n",
      "\n",
      "          -1       0.00      0.00      0.00       175\n",
      "           0       0.27      0.81      0.41        67\n",
      "           1       0.13      0.30      0.18        33\n",
      "\n",
      "    accuracy                           0.23       275\n",
      "   macro avg       0.13      0.37      0.20       275\n",
      "weighted avg       0.08      0.23      0.12       275\n",
      "\n"
     ]
    }
   ],
   "source": [
    "report_5_50 = semi_supervised_learning(k=5, sample_frac=0.5)\n",
    "print(\"K=5, 50% 샘플링 결과:\\n\", report_5_50)"
   ]
  },
  {
   "cell_type": "markdown",
   "id": "37e60700",
   "metadata": {},
   "source": [
    "- __베이스라인의 모델 성능__\n",
    "    - 모델의 정확도는 대략 0.70이다.\n",
    "    - 일반사고에 대한 정밀도는 높지만 보험사기사고에 대한 정밀도는 낮다.\n",
    "    - 일반사고에 대한 재현율이 조금 더 높다.\n",
    "    - 일반사고에 대한 f1-score가 높다.\n",
    "\n",
    "\n",
    "\n",
    "- __Semi-supervised learning 모델 성능__\n",
    "    - 일반적으로 베이스라인 모델보다 성능이 낮다.\n",
    "    - unlabeled 데이터를 사용해서 낮은 것 같다..\n",
    "\n",
    "\n",
    "\n",
    "- __9가지 실험 해석__\n",
    "    - K 값이 증가할수록, semi-supervised learning 모델의 성능이 향상되는 경향이 있다.\n",
    "    - labeled percentage(레이블이 있는 비율)이 낮을수록 semi-supervised learning 모델의 성능이 하락하는 경향이 있다.\n",
    "    - 특히, 0.1 비율에서 모델의 성능이 매우 낮다."
   ]
  },
  {
   "cell_type": "markdown",
   "id": "ede83810",
   "metadata": {},
   "source": [
    "## 회고"
   ]
  },
  {
   "cell_type": "markdown",
   "id": "d1b4edf3",
   "metadata": {},
   "source": [
    "### 어려웠던 점 / 느낀점\n",
    "> - 이번 프로젝트는 준지도학습 기법을 사용하여 데이터를 예측하는 것이었다. 노드에서 예시로 보여줬던 iris데이터와 느낌이 많이 달라서 준지도학습 기법을 적용하는 부분에서 많은 어려움을 겪었다. iris 데이터의 경우 주어진 레이블에서 unlabeled 데이터를 선정해서 모델링을 진행했으나, 이번 데이터의 경우 이미 레이블이 주어진 데이터와 주어지지 않은 데이터가 나뉘어서 시작 단계에서 많은 시간을 사용했다.. 그래서 새로운 시도를 하지 못해서 아쉬웠다. \n",
    "\n",
    "### 학습한 내용\n",
    "> - 준지도학습 기법이 어떤 원리로 사용되는지에 대해 알게 되었다. 특히, 레이블이 없는 데이터의 비율과 k값을 어떻게 조정하느냐에 따라 결과가 어떻게 변하는지 알 수 있었다."
   ]
  }
 ],
 "metadata": {
  "kernelspec": {
   "display_name": "Python 3 (ipykernel)",
   "language": "python",
   "name": "python3"
  },
  "language_info": {
   "codemirror_mode": {
    "name": "ipython",
    "version": 3
   },
   "file_extension": ".py",
   "mimetype": "text/x-python",
   "name": "python",
   "nbconvert_exporter": "python",
   "pygments_lexer": "ipython3",
   "version": "3.9.7"
  },
  "toc": {
   "base_numbering": 1,
   "nav_menu": {},
   "number_sections": true,
   "sideBar": true,
   "skip_h1_title": false,
   "title_cell": "Table of Contents",
   "title_sidebar": "Contents",
   "toc_cell": false,
   "toc_position": {},
   "toc_section_display": true,
   "toc_window_display": false
  },
  "varInspector": {
   "cols": {
    "lenName": 16,
    "lenType": 16,
    "lenVar": 40
   },
   "kernels_config": {
    "python": {
     "delete_cmd_postfix": "",
     "delete_cmd_prefix": "del ",
     "library": "var_list.py",
     "varRefreshCmd": "print(var_dic_list())"
    },
    "r": {
     "delete_cmd_postfix": ") ",
     "delete_cmd_prefix": "rm(",
     "library": "var_list.r",
     "varRefreshCmd": "cat(var_dic_list()) "
    }
   },
   "types_to_exclude": [
    "module",
    "function",
    "builtin_function_or_method",
    "instance",
    "_Feature"
   ],
   "window_display": false
  }
 },
 "nbformat": 4,
 "nbformat_minor": 5
}
